{
 "cells": [
  {
   "cell_type": "markdown",
   "metadata": {},
   "source": [
    "<h>Review ticket</h>\n",
    "<p>Basic html</p>\n",
    "<br>\n",
    "<p>Basic js</p>\n",
    "<br>\n",
    "<p>basic data type</p>\n",
    "<br>\n",
    "<p>Basic js with html</p>\n",
    "<br>\n",
    "<p>js errors</p>\n",
    "<table>\n",
    "<tr>\n",
    "<td>Matthew: 3.7</td>\n",
    "</tr>\n",
    "<tr>\n",
    "<td>Ethan: 3.6</td>\n",
    "</tr>\n",
    "<tr>\n",
    "<td>Lindsay: 3.6</td>\n",
    "</tr>\n",
    "</table>"
   ]
  }
 ],
 "metadata": {
  "language_info": {
   "name": "python"
  },
  "orig_nbformat": 4
 },
 "nbformat": 4,
 "nbformat_minor": 2
}

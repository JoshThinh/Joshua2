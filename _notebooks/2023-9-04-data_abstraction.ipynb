{
 "cells": [
  {
   "cell_type": "code",
   "execution_count": 3,
   "metadata": {},
   "outputs": [
    {
     "name": "stdout",
     "output_type": "stream",
     "text": [
      "ramen\n",
      "16\n"
     ]
    }
   ],
   "source": [
    "BestFood = \"ramen\"\n",
    "print(BestFood)\n",
    "\n",
    "age = 16\n",
    "print(age)"
   ]
  },
  {
   "cell_type": "code",
   "execution_count": 2,
   "metadata": {},
   "outputs": [
    {
     "name": "stdout",
     "output_type": "stream",
     "text": [
      "2 is an integer\n",
      "False is a boolean\n",
      "Josh is a string\n"
     ]
    }
   ],
   "source": [
    "Siblings = 2\n",
    "EatingFood = False\n",
    "firstName = \"Josh\"\n",
    "print(str(Siblings) + \" is an integer\")\n",
    "print(str(EatingFood) + \" is a boolean\")\n",
    "print(str(firstName) + \" is a string\")"
   ]
  },
  {
   "cell_type": "code",
   "execution_count": 8,
   "metadata": {},
   "outputs": [
    {
     "name": "stdout",
     "output_type": "stream",
     "text": [
      "32\n",
      "1\n",
      "1\n",
      "17\n"
     ]
    }
   ],
   "source": [
    "num1 = 1\n",
    "num2 = 32\n",
    "num3 = 44\n",
    "num3 = num1\n",
    "num1 = num2\n",
    "\n",
    "num2 = num3\n",
    "print(str(num1))\n",
    "print(str(num2))\n",
    "print(str(num3))\n",
    "\n",
    "age = 15\n",
    "newAge = age\n",
    "newAge = 17\n",
    "print(str(newAge))"
   ]
  },
  {
   "cell_type": "code",
   "execution_count": 9,
   "metadata": {},
   "outputs": [
    {
     "name": "stdout",
     "output_type": "stream",
     "text": [
      "Ap calc\n"
     ]
    }
   ],
   "source": [
    "classes = (\"3D Animation\", \"Ap calc\", \"AHug\", \"APCSP\")\n",
    "print(classes[1])"
   ]
  },
  {
   "cell_type": "markdown",
   "metadata": {},
   "source": [
    "A variable is not static, it is changable.\n",
    "- list is ordered sequence of elements\n",
    "- strings are ordered sequence of characters\n",
    "Index mostly starts at zero but on the ap exam they want you to start at 1."
   ]
  },
  {
   "cell_type": "code",
   "execution_count": 10,
   "metadata": {},
   "outputs": [
    {
     "name": "stdout",
     "output_type": "stream",
     "text": [
      "(16, 16, 16, 15, 16)\n"
     ]
    }
   ],
   "source": [
    "friendsAge = (3, 4, 5, 6, 7, 8)\n",
    "newFriendsAge = (16, 16, 16, 15, 16)\n",
    "friendsAge = newFriendsAge\n",
    "print(str(friendsAge))"
   ]
  },
  {
   "cell_type": "code",
   "execution_count": 19,
   "metadata": {},
   "outputs": [
    {
     "name": "stdout",
     "output_type": "stream",
     "text": [
      "<class 'list'>\n",
      "[1, 2, 3, 4, 5]\n",
      "<class 'str'>\n"
     ]
    }
   ],
   "source": [
    "import json\n",
    "lst = [1,2,3,4,5]\n",
    "print(type(lst))\n",
    "a = json.dumps(lst)\n",
    "print(a)\n",
    "print(type(a))"
   ]
  },
  {
   "cell_type": "code",
   "execution_count": 50,
   "metadata": {},
   "outputs": [
    {
     "name": "stdout",
     "output_type": "stream",
     "text": [
      "Variable 1) 26 is a integer\n",
      "Variable 2) Tesla is a string\n",
      "Variable 3) ['Nikki', 'Monika', 'Ankit', 'Varun'] is a list\n",
      "Variable 4) True is a boolean\n"
     ]
    }
   ],
   "source": [
    "\n",
    "# variable 1\n",
    "\n",
    "numStudents = 26\n",
    "print(\"Variable 1) \" + str(numStudents) + \" is a integer\")\n",
    "\n",
    "#variable 2\n",
    "\n",
    "car = \"Tesla\"\n",
    "print(\"Variable 2) \" +str(car) + \" is a string\")\n",
    "\n",
    "#variable 3\n",
    "\n",
    "groupMates = [\"Nikki\", \"Monika\", \"Ankit\", \"Varun\"]\n",
    "print(\"Variable 3) \" +str(groupMates) + \" is a list\")\n",
    "\n",
    "#Variable 4\n",
    "\n",
    "dogsbeatcats = True\n",
    "print(\"Variable 4) \" +str(dogsbeatcats) + \" is a boolean\")"
   ]
  },
  {
   "cell_type": "code",
   "execution_count": 49,
   "metadata": {},
   "outputs": [
    {
     "name": "stdout",
     "output_type": "stream",
     "text": [
      "We have the same amount of members\n",
      "[\"Josh\", \"Ethan\", \"Matthew\", \"Lindsay\"]\n",
      "ramen\n",
      "16\n",
      "True\n"
     ]
    }
   ],
   "source": [
    "import json\n",
    "\n",
    "team = [\"Josh\", \"Ethan\", \"Matthew\", \"Lindsay\"]\n",
    "FavoriteFood = \"ramen\"\n",
    "age = 16\n",
    "ILoveVideoGames = True\n",
    "\n",
    "teamStr = json.dumps(team)\n",
    "\n",
    "user = input(\"How many members are in your team?\")\n",
    "\n",
    "if int(user) == len(team):\n",
    "    print(\"We have the same amount of members\")\n",
    "elif user != len(team):\n",
    "    print(\"we do not have the same members\")\n",
    "\n",
    "\n",
    "print(teamStr)\n",
    "print(FavoriteFood)\n",
    "print(age)\n",
    "print(ILoveVideoGames)\n"
   ]
  }
 ],
 "metadata": {
  "kernelspec": {
   "display_name": "Python 3",
   "language": "python",
   "name": "python3"
  },
  "language_info": {
   "codemirror_mode": {
    "name": "ipython",
    "version": 3
   },
   "file_extension": ".py",
   "mimetype": "text/x-python",
   "name": "python",
   "nbconvert_exporter": "python",
   "pygments_lexer": "ipython3",
   "version": "3.10.12"
  },
  "orig_nbformat": 4
 },
 "nbformat": 4,
 "nbformat_minor": 2
}

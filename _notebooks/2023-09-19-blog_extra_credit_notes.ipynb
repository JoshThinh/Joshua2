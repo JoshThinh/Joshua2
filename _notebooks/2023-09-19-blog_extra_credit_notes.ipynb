{
 "cells": [
  {
   "cell_type": "code",
   "execution_count": null,
   "metadata": {},
   "outputs": [],
   "source": [
    "---\n",
    "toc: true\n",
    "comments: false\n",
    "layout: post\n",
    "title: emoji\n",
    "description: Plan!!! Analyze hacks and plan.\n",
    "type: hacks\n",
    "courses: { compsci: {week: 1} }\n",
    "---\n",
    "\n",
    "## Takeaways\n",
    "- a lot of things learned in this class like github and scrum will be carried on throughout college.\n",
    "## cs is a very competitive in college where your chance of getting into a high status school is a lottery and people are going into different majors.\n",
    "## you should apply to as many schools as possible because of the cs major being very popular.\n",
    "## extracurricular things such as teaching that relate to cs are good to show your understanding on computer science and will help greatly with apps.\n",
    "## make sure in projects that you show your contribution and how much you can provide to projects.\n",
    "## Learning extra things on top of the work in the csp and csa class will greatly help you for the near future.\n",
    "## make sure to deploy things that you make.\n",
    "## being organized and having a game plan when coding will allow employers to find it easier to hire you.\n",
    "## You don't have to build something big form the start, start with the little things that relate to you.\n",
    "## make sure that you are good a leet code because a lot of companies look at how well you can do it.\n",
    "## "
   ]
  },
  {
   "cell_type": "code",
   "execution_count": null,
   "metadata": {},
   "outputs": [],
   "source": []
  },
  {
   "cell_type": "markdown",
   "metadata": {},
   "source": [
    "## Takeaways\n",
    "- a lot of things learned in this class like github and scrum will be carried on throughout college.\n",
    "- cs is a very competitive in college where your chance of getting into a high status school is a lottery and people are going into different majors.\n",
    "- you should apply to as many schools as possible because of the cs major being very popular.\n",
    "- extracurricular things such as teaching that relate to cs are good to show your understanding on computer science and will help greatly with apps.\n",
    "- make sure in projects that you show your contribution and how much you can provide to projects.\n",
    "- Learning extra things on top of the work in the csp and csa class will greatly help you for the near future.\n",
    "- make sure to deploy things that you make so that other people can easily see.\n",
    "- being organized and having a game plan when coding will allow employers to find it easier to hire you.\n",
    "- You don't have to build something big form the start, start with the little things that relate to you.\n",
    "- make sure that you are good a leet code because a lot of companies look at how well you can do it.\n",
    "## Kool Aid Cheat code: \n",
    "-Vercel: deployment tool\n",
    "-svelt kit: Something like react\n",
    "-personal website allowing people to see all your work. easier to share your link to your projects.\n",
    "-tailwind css\n",
    "-Flask is a micro web framework in python allowing you make apps easier and 10 times easier and in less time.\n",
    "Tristin Kurtly.\n",
    "-All these cheat codes are good but it is important to focus on the basics that are presented in this class.\n",
    "\n",
    "## Reflection \n",
    "After listening to the Alumni talk about their own story and the things that they learned, I realize that there is a lot to learn about code and it takes extra time outside of this class and the homework to create a pathway for a career in the future. It's important for me to continue learning how to code outside the projects to increase my qualities to be more appealing for college apps and even in the workforce."
   ]
  }
 ],
 "metadata": {
  "language_info": {
   "name": "python"
  },
  "orig_nbformat": 4
 },
 "nbformat": 4,
 "nbformat_minor": 2
}

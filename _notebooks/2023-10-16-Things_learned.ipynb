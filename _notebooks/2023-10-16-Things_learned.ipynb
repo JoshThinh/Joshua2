{
 "cells": [
  {
   "cell_type": "markdown",
   "metadata": {},
   "source": [
    "---\n",
    "toc: true\n",
    "comments: false\n",
    "layout: post\n",
    "title: What was learned during the pashion project\n",
    "description: The beginning of my Coding Journey.\n",
    "type: tangibles\n",
    "courses: { compsci: {week: 6} }\n",
    "---"
   ]
  },
  {
   "cell_type": "markdown",
   "metadata": {},
   "source": [
    "## Frontend code including recent games using javascript."
   ]
  },
  {
   "cell_type": "markdown",
   "metadata": {},
   "source": [
    "## Things Learned\n",
    "During the passhion project, I learned that working with people is really hard but if you can get your team together to work together, you can accomplish anything. My team was able to be more productive than most others because we were able to work on a team and communicate at a professional level. I also learned about time management and how to make sure I finish a specific part of the project at a certain time. I also Learned a lot of code like using calculations within a project to obtain information and proceed to use that information to create a certain function. \n",
    "\n",
    "## Challenges\n",
    "I faced a lot of challenges at the start with committing because I didn't fully understand how it worked. I faced having to comitt while someone else has already committed. Other problems I faced were errors in the code or styling because of a certain thing not updating or forgetting to save(happened a lot)"
   ]
  }
 ],
 "metadata": {
  "language_info": {
   "name": "python"
  }
 },
 "nbformat": 4,
 "nbformat_minor": 2
}

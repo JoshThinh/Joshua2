{
 "cells": [
  {
   "cell_type": "markdown",
   "metadata": {},
   "source": [
    "---\n",
    "toc: true\n",
    "comments: false\n",
    "layout: post\n",
    "title: Reflection\n",
    "description: The beginning of my Coding Journey.\n",
    "type: tangibles\n",
    "courses: { compsci: {week: 7} }\n",
    "---"
   ]
  },
  {
   "cell_type": "markdown",
   "metadata": {},
   "source": [
    "## Learned things throughout the trimester\n",
    "\n",
    "\n",
    "As the trimester in the coding class comes to a close, I find myself reflecting on the valuable lessons and experiences I've gained throughout this journey. Working collaboratively with others to create a project and diving into bits and pieces of code along the way has been both challenging and rewarding. Here are some of the key takeaways from this coding class:\n",
    "\n",
    "Teamwork and Collaboration: One of the most significant aspects of this coding class was the opportunity to work with others to create a project. Collaboration taught me the importance of effective communication, delegation of tasks, and the ability to work together as a cohesive team. It was not just about writing code but also about understanding different perspectives and finding common ground to achieve our project goals.\n",
    "\n",
    "Version Control (Git): Version control using Git and platforms like GitHub was an integral part of our collaborative project. I learned how to create branches, merge code, resolve conflicts, and track changes effectively. It's an essential skill for any developer working in a team, and it ensures a smooth and organized development process.\n",
    "\n",
    "Project Planning and Management: Planning our project, breaking it down into tasks, setting milestones, and creating a timeline helped us stay organized and on track. It's crucial to have a clear project structure and goals to avoid scope creep and meet deadlines.\n",
    "\n",
    "Problem-Solving and Debugging: Coding naturally comes with challenges and bugs. Throughout the trimester, I became more proficient in identifying, debugging, and solving issues. The ability to dissect a problem, search for solutions, and apply them effectively is a skill that continually improves with practice.\n",
    "\n",
    "Code Review and Feedback: Reviewing code written by team members and receiving feedback on my own code was a valuable learning experience. It taught me the importance of code quality, best practices, and the benefit of having another set of eyes to catch potential errors and suggest improvements.\n",
    "\n",
    "Software Architecture and Design Patterns: As our project grew in complexity, I learned about the importance of software architecture and design patterns. Designing code in a scalable and maintainable way became crucial to avoid future issues and simplify the addition of new features.\n",
    "\n",
    "Learning from Peers: Working with other team members exposed me to various coding styles, approaches, and tools. I had the opportunity to learn from their experiences and adapt some of their best practices into my coding repertoire.\n",
    "\n",
    "Continuous Learning: The field of coding is ever-evolving, and this class reminded me of the importance of continuous learning. I realized that even after the trimester, I'll need to stay updated with the latest technologies and coding trends.\n",
    "\n",
    "Pride in Accomplishment: Seeing our project come to life and functioning as intended was incredibly satisfying. It was a testament to the hard work and dedication of the team, and it reminded me of the importance of perseverance in coding.\n",
    "\n",
    "In summary, the trimester in the coding class provided me with not only technical skills but also important soft skills like teamwork, communication, and project management. It was a valuable experience that has prepared me for real-world coding projects and the ongoing journey of becoming a better developer."
   ]
  }
 ],
 "metadata": {
  "language_info": {
   "name": "python"
  }
 },
 "nbformat": 4,
 "nbformat_minor": 2
}

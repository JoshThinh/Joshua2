{
 "cells": [
  {
   "cell_type": "markdown",
   "metadata": {},
   "source": [
    "---\n",
    "toc: true\n",
    "comments: false\n",
    "layout: post\n",
    "title: Pashion project\n",
    "description: The beginning of my Coding Journey.\n",
    "type: hacks\n",
    "courses: { compsci: {week: 7} }\n",
    "---"
   ]
  },
  {
   "cell_type": "markdown",
   "metadata": {},
   "source": [
    "## Frontend code including recent games using javascript."
   ]
  },
  {
   "cell_type": "markdown",
   "metadata": {},
   "source": [
    "## Created a gacha system for the final project\n",
    "\n",
    "import random\n",
    "\n",
    "num_pulls = 10\n",
    "# Define the gacha pool (items, characters, etc.)\n",
    "gacha_pool = {\n",
    "    \"Common Item\": 0.58,\n",
    "    \"Rare Item\": 0.3,\n",
    "    \"Epic Item\": 0.1,\n",
    "    \"Legendary\": 0.02\n",
    "}\n",
    "\n",
    "# Function to perform a gacha pull\n",
    "def perform_gacha_pull(pool):\n",
    "    result = random.choices(list(pool.keys()), list(pool.values()))[0]\n",
    "    return result\n",
    "\n",
    "# Simulate multiple gacha pulls\n",
    "print(\"would you like to spend 1000 clicks to spin\")\n",
    "if input(\"yes\"):\n",
    "    for _ in range(num_pulls):\n",
    "        item = perform_gacha_pull(gacha_pool)\n",
    "        print(f\"You received: {item}\")\n",
    "\n"
   ]
  }
 ],
 "metadata": {
  "language_info": {
   "name": "python"
  }
 },
 "nbformat": 4,
 "nbformat_minor": 2
}

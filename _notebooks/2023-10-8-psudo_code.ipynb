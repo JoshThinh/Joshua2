{
 "cells": [
  {
   "cell_type": "markdown",
   "metadata": {},
   "source": [
    "---\n",
    "toc: true\n",
    "comments: false\n",
    "layout: post\n",
    "title: Psudo code\n",
    "description: The beginning of my Coding Journey.\n",
    "type: hacks\n",
    "courses: { compsci: {week: 5} }\n",
    "---"
   ]
  },
  {
   "cell_type": "markdown",
   "metadata": {},
   "source": [
    "## psuedo code of one of the number frontend games\n",
    "\n",
    "1. Initialize a random number between 1 and 100 and store it in 'target'.\n",
    "2. Initialize 'attempts' to 0.\n",
    "\n",
    "3. Display a welcome message to the player.\n",
    "4. Repeat the following steps until the player guesses the correct number:\n",
    "   a. Increment 'attempts' by 1.\n",
    "   b. Ask the player to enter their guess and store it in 'guess'.\n",
    "   c. If 'guess' is equal to 'target', then:\n",
    "      i. Display a congratulatory message to the player, including the number of attempts.\n",
    "      ii. End the game.\n",
    "   d. If 'guess' is less than 'target', then:\n",
    "      i. Display a message indicating that 'guess' is too low.\n",
    "   e. If 'guess' is greater than 'target', then:\n",
    "      i. Display a message indicating that 'guess' is too high.\n",
    "\n",
    "5. Display a message to the player with the correct 'target' number and the number of attempts it took to guess it.\n",
    "\n",
    "6. Ask the player if they want to play again.\n",
    "7. If the player wants to play again, go back to step 1.\n",
    "8. If the player doesn't want to play again, display a goodbye message and end the game.\n",
    "\n",
    "## how is it different\n",
    "This gives an overall layout of the what is going to be coded but when in the process of coding the code can very because of possibilities of adjusting code if you found a flaw in your plan, adding something because you found something cool that you would like to add.\n"
   ]
  }
 ],
 "metadata": {
  "language_info": {
   "name": "python"
  }
 },
 "nbformat": 4,
 "nbformat_minor": 2
}

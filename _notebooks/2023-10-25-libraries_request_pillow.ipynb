{
 "cells": [
  {
   "cell_type": "markdown",
   "metadata": {},
   "source": [
    "---\n",
    "toc: true\n",
    "comments: false\n",
    "layout: post\n",
    "title: Libraries\n",
    "description: The beginning of my Coding Journey.\n",
    "type: hacks\n",
    "courses: { compsci: {week: 7} }\n",
    "---"
   ]
  },
  {
   "cell_type": "markdown",
   "metadata": {},
   "source": [
    "## Requests library\n",
    "The requests library simplifies the process of making HTTP requests to interact with web services, APIs, or websites<br><br>\n",
    "- importing request library\n",
    "- Making get request and handling response\n",
    "- Using request.post\n",
    "- working the parameters\n",
    "- handling errors\n"
   ]
  },
  {
   "cell_type": "code",
   "execution_count": null,
   "metadata": {},
   "outputs": [],
   "source": [
    "import requests\n",
    "\n"
   ]
  },
  {
   "cell_type": "markdown",
   "metadata": {},
   "source": [
    "## Request\n",
    "- The requests module allows you to send HTTP requests using Python.\n",
    "- In order to download requests, you would have to type pip install requests in your terminal.\n",
    "\n",
    "## Syntax\n",
    "- requests.methodname(params)"
   ]
  },
  {
   "cell_type": "code",
   "execution_count": 1,
   "metadata": {},
   "outputs": [
    {
     "name": "stdout",
     "output_type": "stream",
     "text": [
      "<!DOCTYPE html>\n",
      "<html>\n",
      "<body>\n",
      "\n",
      "<h1>This is a Test Page</h1>\n",
      "\n",
      "</body>\n",
      "</html>\n"
     ]
    }
   ],
   "source": [
    "import requests\n",
    "\n",
    "x = requests.get('https://w3schools.com/python/demopage.htm')\n",
    "\n",
    "print(x.text)"
   ]
  },
  {
   "cell_type": "markdown",
   "metadata": {},
   "source": [
    "## Pillow\n",
    "- Pillow is a imaging library that provides easy-to-use methods to include, change, save different image formats.\n",
    "- To dowload pillow onto your computer, you would enter the command pip install Pillow into your terminal.\n",
    "\n"
   ]
  },
  {
   "cell_type": "code",
   "execution_count": 10,
   "metadata": {},
   "outputs": [
    {
     "name": "stdout",
     "output_type": "stream",
     "text": [
      "Original Image Size: 713x1099\n",
      "Original Image Format: PNG\n",
      "Resized Image Size: 356x549\n"
     ]
    },
    {
     "name": "stderr",
     "output_type": "stream",
     "text": [
      "WARNING: You don't seem to have any mimeinfo.cache files.\n",
      "Try running the update-desktop-database command. If you\n",
      "don't have this command you should install the\n",
      "desktop-file-utils package. This package is available from\n",
      "http://freedesktop.org/wiki/Software/desktop-file-utils/\n",
      "WARNING: You don't seem to have any mimeinfo.cache files.\n",
      "Try running the update-desktop-database command. If you\n",
      "don't have this command you should install the\n",
      "desktop-file-utils package. This package is available from\n",
      "http://freedesktop.org/wiki/Software/desktop-file-utils/\n",
      "No applications found for mimetype: image/png\n",
      ".No applications found for mimetype: image/png\n",
      "./bin/xdg-open: 882: x-www-browser: not found\n",
      "/bin/xdg-open: 882: x-www-browser: not found\n",
      "/bin/xdg-open: 882: firefox: not found\n",
      "/bin/xdg-open: 882: firefox: not found\n",
      "/bin/xdg-open: 882: iceweasel: not found\n",
      "/bin/xdg-open: 882: iceweasel: not found\n",
      "/bin/xdg-open: 882: seamonkey: not found\n",
      "/bin/xdg-open: 882: seamonkey: not found\n",
      "/bin/xdg-open: 882: mozilla: not found\n",
      "/bin/xdg-open: 882: mozilla: not found\n",
      "/bin/xdg-open: 882: epiphany: not found\n",
      "/bin/xdg-open: 882: epiphany: not found\n",
      "/bin/xdg-open: 882: konqueror: not found\n",
      "/bin/xdg-open: 882: konqueror: not found\n",
      "/bin/xdg-open: 882: chromium: not found\n",
      "/bin/xdg-open: 882: chromium: not found\n",
      "/bin/xdg-open: 882: chromium-browser: not found\n",
      "/bin/xdg-open: 882: chromium-browser: not found\n",
      "/bin/xdg-open: 882: google-chrome: not found\n",
      "/bin/xdg-open: 882: google-chrome: not found\n",
      "/bin/xdg-open: 882: www-browser: not found\n",
      "/bin/xdg-open: 882: www-browser: not found\n",
      "/bin/xdg-open: 882: links2: not found\n",
      "/bin/xdg-open: 882: links2: not found\n",
      "/bin/xdg-open: 882: elinks: not found\n",
      "/bin/xdg-open: 882: elinks: not found\n",
      "/bin/xdg-open: 882: links: not found\n",
      "/bin/xdg-open: 882: links: not found\n",
      "/bin/xdg-open: 882: lynx: not found\n",
      "/bin/xdg-open: 882: lynx: not found\n",
      "/bin/xdg-open: 882: w3m: not found\n",
      "xdg-open: no method available for opening '/tmp/tmpercgw3v3.PNG'\n",
      "/bin/xdg-open: 882: w3m: not found\n",
      "xdg-open: no method available for opening '/tmp/tmpgy4_rh_f.PNG'\n"
     ]
    }
   ],
   "source": [
    "from PIL import Image\n",
    "\n",
    "# Open an image\n",
    "original_image = Image.open('image.png')\n",
    "\n",
    "# Display information about the image\n",
    "width, height = original_image.size\n",
    "format = original_image.format\n",
    "print(f\"Original Image Size: {width}x{height}\")\n",
    "print(f\"Original Image Format: {format}\")\n",
    "\n",
    "# Resize the image to a new size\n",
    "new_size = (width // 2, height // 2)  # Reduce the size by half\n",
    "resized_image = original_image.resize(new_size)\n",
    "\n",
    "# Save the resized image\n",
    "resized_image.save('resized_image.jpg')\n",
    "\n",
    "# Display information about the resized image\n",
    "resized_width, resized_height = resized_image.size\n",
    "print(f\"Resized Image Size: {resized_width}x{resized_height}\")\n",
    "\n",
    "# Show both the original and resized images\n",
    "original_image.show()\n",
    "resized_image.show()\n"
   ]
  },
  {
   "cell_type": "markdown",
   "metadata": {},
   "source": [
    "Reflection: <br>\n",
    "Libraries and Requests:<br>\n",
    "\n",
    "- Libraries Are Like Toolkits: I learned that libraries are like toolkits that provide pre-written code for common tasks, saving time and effort.\n",
    "\n",
    "- Importing Libraries: Importing libraries into my code is straightforward, and it extends the functionality of my programs.\n",
    "\n",
    "- Common Libraries: I explored popular libraries like NumPy for numerical operations, Pandas for data manipulation, and Matplotlib for data visualization.\n",
    "\n",
    "- Requests for Web Data: I discovered how to use libraries like Requests in Python to fetch data from websites, which is crucial for web scraping and API interactions.\n",
    "\n",
    "- Handling Responses: I learned how to send requests to web servers and handle responses, extracting and processing data for various applications.\n",
    "\n",
    "- API Interaction: Understanding APIs allowed me to access data from services like weather forecasts, social media platforms, and more, enhancing my application's capabilities.\n",
    "\n",
    "- Error Handling: Dealing with errors in library usage became an essential skill, ensuring robust and reliable programs.\n",
    "\n",
    "- Efficiency and Productivity: Using libraries and making requests improved my coding efficiency and productivity, enabling me to achieve more with less effort.\n",
    "\n",
    "- Documentation: Reading and understanding library documentation became crucial for effectively using libraries and making requests.\n",
    "\n",
    "- In summary, libraries and requests are like handy toolkits that make programming more efficient and versatile. They extend the capabilities of my code, whether I'm working with data, accessing web resources, or performing various tasks. Understanding how to use them is a valuable skill in computer science."
   ]
  }
 ],
 "metadata": {
  "kernelspec": {
   "display_name": "Python 3",
   "language": "python",
   "name": "python3"
  },
  "language_info": {
   "codemirror_mode": {
    "name": "ipython",
    "version": 3
   },
   "file_extension": ".py",
   "mimetype": "text/x-python",
   "name": "python",
   "nbconvert_exporter": "python",
   "pygments_lexer": "ipython3",
   "version": "3.10.12"
  }
 },
 "nbformat": 4,
 "nbformat_minor": 2
}

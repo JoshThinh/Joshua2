{
 "cells": [
  {
   "cell_type": "markdown",
   "metadata": {},
   "source": [
    "---\n",
    "toc: true\n",
    "comments: false\n",
    "layout: post\n",
    "title: Pashion paroject\n",
    "description: The beginning of my Coding Journey.\n",
    "type: hacks\n",
    "courses: { compsci: {week: 5} }\n",
    "---"
   ]
  },
  {
   "cell_type": "markdown",
   "metadata": {},
   "source": [
    "## Frontend code including recent games using javascript."
   ]
  },
  {
   "cell_type": "markdown",
   "metadata": {},
   "source": [
    "---\n",
    "toc: true\n",
    "comments: false\n",
    "layout: post\n",
    "title: Number Game\n",
    "description: Plan!!! Analyze hacks and plan.\n",
    "type: hacks\n",
    "courses: { compsci: {week: 5} }\n",
    "---\n",
    "\n",
    "## Created a game for the final project where you guess for a number\n",
    "\n",
    "```python\n",
    "import random\n",
    "\n",
    "def main():\n",
    "    print(\"Welcome to the Number Guessing Game!\")\n",
    "    lower_bound = 1\n",
    "    upper_bound = 100\n",
    "    secret_number = random.randint(lower_bound, upper_bound)\n",
    "    attempts = 0\n",
    "\n",
    "    while True:\n",
    "        try:\n",
    "            guess = int(input(f\"Guess the number between {lower_bound} and {upper_bound}: \"))\n",
    "            attempts += 1\n",
    "\n",
    "            if guess < lower_bound or guess > upper_bound:\n",
    "                print(\"Please enter a valid number within the specified range.\")\n",
    "                continue\n",
    "\n",
    "            if guess < secret_number:\n",
    "                print(\"Too low! Try again.\")\n",
    "            elif guess > secret_number:\n",
    "                print(\"Too high! Try again.\")\n",
    "            else:\n",
    "                print(f\"Congratulations! You guessed the number {secret_number} in {attempts} attempts.\")\n",
    "                break\n",
    "\n",
    "        except ValueError:\n",
    "            print(\"Invalid input. Please enter a valid number.\")\n",
    "\n",
    "if __name__ == \"__main__\":\n",
    "    main()\n",
    "def read_and_execute_md(md_file):\n",
    "    with open(md_file, \"r\") as file:\n",
    "        code_block = \"\"\n",
    "        in_code_block = False\n",
    "\n",
    "        for line in file:\n",
    "            if line.strip() == \"```python\":\n",
    "                in_code_block = not in_code_block\n",
    "                continue\n",
    "\n",
    "            if in_code_block:\n",
    "                code_block += line\n",
    "            elif code_block.strip():\n",
    "                exec(code_block, globals())\n",
    "                code_block = \"\"\n",
    "\n",
    "if __name__ == \"__main__\":\n",
    "    read_and_execute_md(\"game.md\")"
   ]
  }
 ],
 "metadata": {
  "language_info": {
   "name": "python"
  }
 },
 "nbformat": 4,
 "nbformat_minor": 2
}
